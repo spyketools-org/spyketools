{
 "cells": [
  {
   "cell_type": "code",
   "execution_count": 66,
   "metadata": {},
   "outputs": [],
   "source": [
    "import numpy as np\n",
    "import matplotlib.pyplot as plt"
   ]
  },
  {
   "cell_type": "code",
   "execution_count": 67,
   "metadata": {},
   "outputs": [],
   "source": [
    "import sys\n",
    "sys.path.append('/mnt/pns/home/sotomayorb/git/spyke-tools-dev/')"
   ]
  },
  {
   "cell_type": "code",
   "execution_count": 68,
   "metadata": {},
   "outputs": [
    {
     "name": "stdout",
     "output_type": "stream",
     "text": [
      "The autoreload extension is already loaded. To reload it, use:\n",
      "  %reload_ext autoreload\n"
     ]
    }
   ],
   "source": [
    "%load_ext autoreload\n",
    "\n",
    "from spyketools.proc.distances.spike_metrics import pairwise_spike_distance\n",
    "from spyketools.proc.distances.SPIKE_distance import SPIKE_distance_single\n",
    "from spyketools.proc.distances.RISPIKE_distance import RISPIKE_distance_single\n",
    "from spyketools.proc.distances.victor_purpura_distance import VP_distance_single\n",
    "from spyketools.proc.distances.ISI_distance import ISI_distance_single\n",
    "%autoreload 2"
   ]
  },
  {
   "cell_type": "code",
   "execution_count": 69,
   "metadata": {},
   "outputs": [],
   "source": [
    "#! ls ../../docs/notebooks"
   ]
  },
  {
   "cell_type": "code",
   "execution_count": 70,
   "metadata": {},
   "outputs": [],
   "source": [
    "stim_label     = np.load(\"../../docs/notebooks/demo_dataset_allen/stim_label.npy\")\n",
    "spike_times    = np.load(\"../../docs/notebooks/demo_dataset_allen/spike_times.npy\")\n",
    "ii_spike_times = np.load(\"../../docs/notebooks/demo_dataset_allen/ii_spike_times.npy\")"
   ]
  },
  {
   "cell_type": "code",
   "execution_count": 71,
   "metadata": {},
   "outputs": [],
   "source": [
    "epoch_i = 225\n",
    "epoch_j = 227"
   ]
  },
  {
   "cell_type": "code",
   "execution_count": 72,
   "metadata": {},
   "outputs": [],
   "source": [
    "spike_train_i = spike_times[ii_spike_times[0,epoch_i,0]:ii_spike_times[0,epoch_i,1]]\n",
    "spike_train_j = spike_times[ii_spike_times[0,epoch_j,0]:ii_spike_times[0,epoch_j,1]]"
   ]
  },
  {
   "cell_type": "code",
   "execution_count": 73,
   "metadata": {},
   "outputs": [
    {
     "data": {
      "text/plain": [
       "array([0.0077216 , 0.03715495, 0.05015496, 0.05685496, 0.0608883 ,\n",
       "       0.06405497, 0.0678883 , 0.07178831, 0.07738831, 0.08398831,\n",
       "       0.08948832, 0.09852165])"
      ]
     },
     "execution_count": 73,
     "metadata": {},
     "output_type": "execute_result"
    }
   ],
   "source": [
    "spike_train_i"
   ]
  },
  {
   "cell_type": "code",
   "execution_count": 74,
   "metadata": {},
   "outputs": [
    {
     "data": {
      "text/plain": [
       "array([0.00845494, 0.05885497, 0.07138831, 0.07832164, 0.08728831])"
      ]
     },
     "execution_count": 74,
     "metadata": {},
     "output_type": "execute_result"
    }
   ],
   "source": [
    "spike_train_j"
   ]
  },
  {
   "cell_type": "code",
   "execution_count": 75,
   "metadata": {},
   "outputs": [
    {
     "name": "stdout",
     "output_type": "stream",
     "text": [
      "CPU times: user 0 ns, sys: 477 µs, total: 477 µs\n",
      "Wall time: 430 µs\n"
     ]
    }
   ],
   "source": [
    "%%time\n",
    "SPIKE_val_py = SPIKE_distance_single(t1=spike_train_i, t2=spike_train_j, t_start=0, t_end=0.1, mode='py')"
   ]
  },
  {
   "cell_type": "code",
   "execution_count": 76,
   "metadata": {},
   "outputs": [
    {
     "name": "stdout",
     "output_type": "stream",
     "text": [
      "CPU times: user 17 µs, sys: 1e+03 ns, total: 18 µs\n",
      "Wall time: 21 µs\n"
     ]
    }
   ],
   "source": [
    "%%time\n",
    "SPIKE_val_njit = SPIKE_distance_single(t1=spike_train_i, t2=spike_train_j, t_start=0, t_end=0.1, mode='njit')"
   ]
  },
  {
   "cell_type": "code",
   "execution_count": 77,
   "metadata": {},
   "outputs": [
    {
     "name": "stdout",
     "output_type": "stream",
     "text": [
      "CPU times: user 239 µs, sys: 16 µs, total: 255 µs\n",
      "Wall time: 241 µs\n"
     ]
    }
   ],
   "source": [
    "%%time\n",
    "RISPIKE_val_py = RISPIKE_distance_single(t1=spike_train_i, t2=spike_train_j, t_start=0, t_end=0.1, mode='py')"
   ]
  },
  {
   "cell_type": "code",
   "execution_count": 78,
   "metadata": {},
   "outputs": [
    {
     "name": "stdout",
     "output_type": "stream",
     "text": [
      "CPU times: user 18 µs, sys: 1 µs, total: 19 µs\n",
      "Wall time: 21.7 µs\n"
     ]
    }
   ],
   "source": [
    "%%time\n",
    "RISPIKE_val_njit = RISPIKE_distance_single(t1=spike_train_i, t2=spike_train_j, t_start=0, t_end=0.1, mode='njit')"
   ]
  },
  {
   "cell_type": "code",
   "execution_count": 79,
   "metadata": {},
   "outputs": [
    {
     "name": "stdout",
     "output_type": "stream",
     "text": [
      "CPU times: user 1.03 ms, sys: 73 µs, total: 1.11 ms\n",
      "Wall time: 716 µs\n"
     ]
    }
   ],
   "source": [
    "%%time\n",
    "VP_val_py = VP_distance_single(t1=spike_train_i, t2=spike_train_j, cost=0.1, mode='py')"
   ]
  },
  {
   "cell_type": "code",
   "execution_count": 80,
   "metadata": {},
   "outputs": [
    {
     "name": "stdout",
     "output_type": "stream",
     "text": [
      "CPU times: user 24 µs, sys: 2 µs, total: 26 µs\n",
      "Wall time: 29.6 µs\n"
     ]
    }
   ],
   "source": [
    "%%time\n",
    "VP_val_njit = VP_distance_single(t1=spike_train_i, t2=spike_train_j, cost=0.1, mode='njit')"
   ]
  },
  {
   "cell_type": "code",
   "execution_count": 81,
   "metadata": {},
   "outputs": [
    {
     "name": "stdout",
     "output_type": "stream",
     "text": [
      "CPU times: user 78 µs, sys: 5 µs, total: 83 µs\n",
      "Wall time: 86.1 µs\n"
     ]
    }
   ],
   "source": [
    "%%time\n",
    "ISI_val_py = ISI_distance_single(t1=spike_train_i, t2=spike_train_j, t_start=0, t_end=0.1, mode='py')"
   ]
  },
  {
   "cell_type": "code",
   "execution_count": 82,
   "metadata": {},
   "outputs": [
    {
     "name": "stdout",
     "output_type": "stream",
     "text": [
      "CPU times: user 17 µs, sys: 0 ns, total: 17 µs\n",
      "Wall time: 19.1 µs\n"
     ]
    }
   ],
   "source": [
    "%%time\n",
    "ISI_val_njit = ISI_distance_single(t1=spike_train_i, t2=spike_train_j, t_start=0, t_end=0.1, mode='njit')"
   ]
  },
  {
   "cell_type": "markdown",
   "metadata": {},
   "source": [
    "**Test**"
   ]
  },
  {
   "cell_type": "code",
   "execution_count": 83,
   "metadata": {},
   "outputs": [
    {
     "name": "stdout",
     "output_type": "stream",
     "text": [
      "True\n",
      "True\n",
      "True\n",
      "True\n"
     ]
    }
   ],
   "source": [
    "print (ISI_val_py == ISI_val_njit)\n",
    "print (SPIKE_val_py == SPIKE_val_njit)\n",
    "print (RISPIKE_val_py == RISPIKE_val_njit)\n",
    "print (VP_val_py == VP_val_njit)"
   ]
  },
  {
   "cell_type": "markdown",
   "metadata": {},
   "source": [
    "## Speed-up test"
   ]
  },
  {
   "cell_type": "code",
   "execution_count": 19,
   "metadata": {},
   "outputs": [],
   "source": [
    "firing_rate = 30"
   ]
  },
  {
   "cell_type": "code",
   "execution_count": 20,
   "metadata": {},
   "outputs": [],
   "source": [
    "def run_simple_test():\n",
    "    \n",
    "    spike_train_i = np.random.randint(1000, size=firing_rate)/1000.\n",
    "    spike_train_j = np.random.randint(1000, size=firing_rate)/1000.\n",
    "    \n",
    "    SPIKE_distance_single(t1=spike_train_i, t2=spike_train_j, t_start=0, t_end=0.1, mode='py')\n",
    "    SPIKE_distance_single(t1=spike_train_i, t2=spike_train_j, t_start=0, t_end=0.1, mode='njit')\n",
    "\n",
    "run_simple_test()"
   ]
  },
  {
   "cell_type": "code",
   "execution_count": 21,
   "metadata": {},
   "outputs": [],
   "source": [
    "from time import time"
   ]
  },
  {
   "cell_type": "code",
   "execution_count": 27,
   "metadata": {},
   "outputs": [],
   "source": [
    "def compute_speed_up(metric, params={}):\n",
    "    times_python = []; times_compiled = []; l_firing_rates = []\n",
    "    \n",
    "    unique_firing_rates = np.array([2, 5, 10, 20, 30, 40])\n",
    "    for temp_firing_rate in unique_firing_rates:#, 25,50,100]:\n",
    "        for i_rep in range(100):\n",
    "            spike_train_i = np.random.randint(1_000, size=temp_firing_rate)/1_000.\n",
    "            spike_train_j = np.random.randint(1_000, size=temp_firing_rate)/1_000.\n",
    "            \n",
    "            if metric=='ISI':\n",
    "                \n",
    "                cost = temp_firing_rate\n",
    "                \n",
    "                time_diff = time()\n",
    "                ISI_distance_single(t1=spike_train_i, t2=spike_train_j, t_start=0, t_end=1, mode='py')\n",
    "                time_diff = time() - time_diff\n",
    "                times_python.append(time_diff)\n",
    "\n",
    "                time_diff = time()\n",
    "                ISI_distance_single(t1=spike_train_i, t2=spike_train_j, t_start=0, t_end=1, mode='njit')\n",
    "                time_diff = time() - time_diff\n",
    "                times_compiled.append(time_diff)   \n",
    "            \n",
    "                l_firing_rates.append(temp_firing_rate)\n",
    "    \n",
    "            elif metric=='SPIKE':\n",
    "                    \n",
    "                time_diff = time()\n",
    "                SPIKE_distance_single(t1=spike_train_i, t2=spike_train_j, t_start=0, t_end=1, mode='py')\n",
    "                time_diff = time() - time_diff\n",
    "                times_python.append(time_diff)\n",
    "\n",
    "                time_diff = time()\n",
    "                SPIKE_distance_single(t1=spike_train_i, t2=spike_train_j, t_start=0, t_end=1, mode='njit')\n",
    "                time_diff = time() - time_diff\n",
    "                times_compiled.append(time_diff)   \n",
    "            \n",
    "                l_firing_rates.append(temp_firing_rate)\n",
    "            \n",
    "            elif metric=='RISPIKE':\n",
    "                \n",
    "                time_diff = time()\n",
    "                RISPIKE_distance_single(t1=spike_train_i, t2=spike_train_j, t_start=0, t_end=1, mode='py')\n",
    "                time_diff = time() - time_diff\n",
    "                times_python.append(time_diff)\n",
    "\n",
    "                time_diff = time()\n",
    "                RISPIKE_distance_single(t1=spike_train_i, t2=spike_train_j, t_start=0, t_end=1, mode='njit')\n",
    "                time_diff = time() - time_diff\n",
    "                times_compiled.append(time_diff)   \n",
    "            \n",
    "                l_firing_rates.append(temp_firing_rate)\n",
    "                \n",
    "            elif metric=='VP':\n",
    "                \n",
    "                cost = temp_firing_rate\n",
    "                \n",
    "                time_diff = time()\n",
    "                VP_distance_single(t1=spike_train_i, t2=spike_train_j, cost=cost, mode='py')\n",
    "                time_diff = time() - time_diff\n",
    "                times_python.append(time_diff)\n",
    "\n",
    "                time_diff = time()\n",
    "                VP_distance_single(t1=spike_train_i, t2=spike_train_j, cost=cost, mode='njit')\n",
    "                time_diff = time() - time_diff\n",
    "                times_compiled.append(time_diff)   \n",
    "            \n",
    "                l_firing_rates.append(temp_firing_rate)\n",
    "            \n",
    "            \n",
    "    times_python   = np.array(times_python)\n",
    "    times_compiled = np.array(times_compiled)\n",
    "    l_firing_rates = np.array(l_firing_rates)\n",
    "    l_mean_speedup = []; l_std_speedup = []; \n",
    "    for tmp in np.unique(l_firing_rates):\n",
    "        temp_mean_speedup  = np.mean(times_python[l_firing_rates==tmp] / times_compiled[l_firing_rates==tmp])\n",
    "        temp_std_speedup   = np.mean(times_python[l_firing_rates==tmp] / times_compiled[l_firing_rates==tmp])\n",
    "        l_mean_speedup.append(temp_mean_speedup)\n",
    "        l_std_speedup.append(temp_std_speedup)\n",
    "    l_mean_speedup = np.array(l_mean_speedup)\n",
    "    l_std_speedup  = np.array(l_std_speedup )\n",
    "    \n",
    "    return l_mean_speedup, l_std_speedup#, l_firing_rates"
   ]
  },
  {
   "cell_type": "code",
   "execution_count": 31,
   "metadata": {},
   "outputs": [],
   "source": [
    "l_mean_speedup_ISI, l_std_speedup_ISI     = compute_speed_up(metric='ISI')"
   ]
  },
  {
   "cell_type": "code",
   "execution_count": 32,
   "metadata": {},
   "outputs": [],
   "source": [
    "l_mean_speedup_SPIKE, l_std_speedup_SPIKE     = compute_speed_up(metric='SPIKE')"
   ]
  },
  {
   "cell_type": "code",
   "execution_count": 33,
   "metadata": {},
   "outputs": [],
   "source": [
    "l_mean_speedup_RISPIKE, l_std_speedup_RISPIKE = compute_speed_up(metric='RISPIKE')"
   ]
  },
  {
   "cell_type": "code",
   "execution_count": 35,
   "metadata": {},
   "outputs": [],
   "source": [
    "l_mean_speedup_VP, l_std_speedup_VP           = compute_speed_up(metric='VP')"
   ]
  },
  {
   "cell_type": "code",
   "execution_count": 36,
   "metadata": {},
   "outputs": [
    {
     "data": {
      "text/plain": [
       "array([ 30.37529724,  38.12075175,  51.95217016,  74.08149055,\n",
       "        89.49416355, 101.20936102])"
      ]
     },
     "execution_count": 36,
     "metadata": {},
     "output_type": "execute_result"
    }
   ],
   "source": [
    "l_mean_speedup_RISPIKE"
   ]
  },
  {
   "cell_type": "code",
   "execution_count": 40,
   "metadata": {},
   "outputs": [
    {
     "data": {
      "text/plain": [
       "<matplotlib.legend.Legend at 0x7fcc6d042f28>"
      ]
     },
     "execution_count": 40,
     "metadata": {},
     "output_type": "execute_result"
    },
    {
     "data": {
      "image/png": "[encoded data removed]",
      "text/plain": [
       "<Figure size 288x288 with 1 Axes>"
      ]
     },
     "metadata": {},
     "output_type": "display_data"
    }
   ],
   "source": [
    "fig, axs = plt.subplots(figsize=(4,4), facecolor='w')\n",
    "\n",
    "##axs.plot(l_firing_rates, times_python / times_compiled , ls='', ms=6, marker='o', color='k', fillstyle='none', alpha=0.2)\n",
    "axs.plot(np.array([2, 5, 10, 20, 30, 40]), l_mean_speedup_ISI    , color='green'    , label='ISI'    )\n",
    "axs.plot(np.array([2, 5, 10, 20, 30, 40]), l_mean_speedup_SPIKE  , color='royalblue', label='SPIKE'  )\n",
    "axs.plot(np.array([2, 5, 10, 20, 30, 40]), l_mean_speedup_RISPIKE, color='black'    , label='RISPIKE')\n",
    "axs.plot(np.array([2, 5, 10, 20, 30, 40]), l_mean_speedup_VP     , color='orange'   , label='VP'     )\n",
    "axs.fill_between(\n",
    "    np.array([2, 5, 10, 20, 30, 40]),\n",
    "    l_mean_speedup_ISI   - (l_std_speedup_ISI   / np.sqrt(100)),\n",
    "    l_mean_speedup_ISI   + (l_std_speedup_ISI   / np.sqrt(100)),\n",
    "    alpha=0.05,\n",
    "    color='green'\n",
    ")\n",
    "axs.fill_between(\n",
    "    np.array([2, 5, 10, 20, 30, 40]),\n",
    "    l_mean_speedup_SPIKE - (l_std_speedup_SPIKE / np.sqrt(100)),\n",
    "    l_mean_speedup_SPIKE + (l_std_speedup_SPIKE / np.sqrt(100)),\n",
    "    alpha=0.05,\n",
    "    color='royalblue'\n",
    ")\n",
    "axs.fill_between(\n",
    "    np.array([2, 5, 10, 20, 30, 40]),\n",
    "    l_mean_speedup_RISPIKE - (l_std_speedup_RISPIKE / np.sqrt(100)),\n",
    "    l_mean_speedup_RISPIKE + (l_std_speedup_RISPIKE / np.sqrt(100)),\n",
    "    alpha=0.05,\n",
    "    color='black'\n",
    ")\n",
    "axs.fill_between(\n",
    "    np.array([2, 5, 10, 20, 30, 40]),\n",
    "    l_mean_speedup_VP - (l_std_speedup_VP / np.sqrt(100)),\n",
    "    l_mean_speedup_VP + (l_std_speedup_VP / np.sqrt(100)),\n",
    "    alpha=0.15,\n",
    "    color='orange'\n",
    ")\n",
    "\n",
    "axs.set_xlabel(\"$Firing\\ rates$\"   , fontsize=14)\n",
    "axs.set_ylabel(\"$Speed$-$up$\", fontsize=14)\n",
    "_ = axs.set_xticks(np.array([2, 5, 10, 20, 30, 40]))\n",
    "\n",
    "plt.legend(frameon=False, fontsize=14, bbox_to_anchor=(1.05, 1))"
   ]
  },
  {
   "cell_type": "markdown",
   "metadata": {},
   "source": [
    "---\n",
    "\n",
    "# Test"
   ]
  },
  {
   "cell_type": "code",
   "execution_count": null,
   "metadata": {},
   "outputs": [],
   "source": []
  },
  {
   "cell_type": "code",
   "execution_count": null,
   "metadata": {},
   "outputs": [],
   "source": []
  },
  {
   "cell_type": "code",
   "execution_count": null,
   "metadata": {},
   "outputs": [],
   "source": []
  },
  {
   "cell_type": "code",
   "execution_count": 55,
   "metadata": {},
   "outputs": [],
   "source": [
    "from numba import njit"
   ]
  },
  {
   "cell_type": "code",
   "execution_count": 60,
   "metadata": {},
   "outputs": [],
   "source": [
    "@njit\n",
    "def njit_get_min_dist(spike_time, spike_train, N, start_index, t_start, t_end):\n",
    "    # TODO: MOVE.\n",
    "\n",
    "    \"\"\" Returns the minimal distance |spike_time - spike_train[i]| \n",
    "    with i>=start_index.\n",
    "    \"\"\"\n",
    "    # start with the distance to the start time\n",
    "    d = np.abs(spike_time - t_start)\n",
    "    if start_index < 0:\n",
    "        start_index = 0\n",
    "    while start_index < N:\n",
    "        d_temp = np.abs(spike_time - spike_train[start_index])\n",
    "        if d_temp > d:\n",
    "            return d\n",
    "        else:\n",
    "            d = d_temp\n",
    "        start_index += 1\n",
    "\n",
    "    # finally, check the distance to end time\n",
    "    d_temp = np.abs(t_end - spike_time)\n",
    "    if d_temp > d:\n",
    "        return d\n",
    "    else:\n",
    "        return d_temp"
   ]
  },
  {
   "cell_type": "code",
   "execution_count": 66,
   "metadata": {},
   "outputs": [],
   "source": [
    "@njit\n",
    "def njit_avrg(isi1, isi2):\n",
    "    # TODO: Move\n",
    "    return 0.5*(isi1+isi2)*(isi1+isi2)"
   ]
  },
  {
   "cell_type": "code",
   "execution_count": 94,
   "metadata": {},
   "outputs": [],
   "source": [
    "@njit\n",
    "def njit_SPIKE_distance(t1, t2, t_start, t_end):\n",
    "\n",
    "    N1=0; N2=0; index1=0; index2=0; index=0;\n",
    "    t_p1=0.; t_f1=0.; t_p2=0.; t_f2=0.; dt_p1=0.; dt_p2=0.; dt_f1=0.; dt_f2=0.;\n",
    "    isi1=0.; isi2=0.; s1=0.; s2=0.;\n",
    "    y_start=0.; y_end=0.; t_last=0.; t_current=0.; spike_value=0.;\n",
    "    \n",
    "    t_aux1 = np.array([0.,0.], dtype=np.float64)\n",
    "    t_aux2 = np.array([0.,0.], dtype=np.float64)\n",
    "    spike_value = 0.0\n",
    "\n",
    "    N1 = len(t1)\n",
    "    N2 = len(t2)\n",
    "\n",
    "    # we can assume at least one spikes per spike train\n",
    "    assert N1 > 0\n",
    "    assert N2 > 0\n",
    "    \n",
    "    t_last = t_start\n",
    "    \n",
    "    t_aux1[0] = np.min(np.array([t_start, 2*t1[0]-t1[1]])) if N1 > 1 else t_start\n",
    "    t_aux1[1] = np.max(np.array([t_end, 2*t1[N1-1]-t1[N1-2]])) if N1 > 1 else t_end\n",
    "    t_aux2[0] = np.min(np.array([t_start, 2*t2[0]-t2[1]])) if N2 > 1 else t_start\n",
    "    t_aux2[1] = np.max(np.array([t_end, 2*t2[N2-1]+-t2[N2-2]])) if N2 > 1 else t_end\n",
    "    \n",
    "    t_p1 = t_start if (t1[0] == t_start) else t_aux1[0]\n",
    "    t_p2 = t_start if (t2[0] == t_start) else t_aux2[0]\n",
    "    if t1[0] > t_start:\n",
    "        # dt_p1 = t2[0]-t_start\n",
    "        t_f1 = t1[0]\n",
    "        dt_f1 = njit_get_min_dist(t_f1, t2, N2, 0, t_aux2[0], t_aux2[1])\n",
    "        isi1 = np.max(np.array([t_f1-t_start, t1[1]-t1[0]])) if N1 > 1 else t_f1-t_start\n",
    "        dt_p1 = dt_f1\n",
    "        s1 = dt_p1\n",
    "        index1 = -1\n",
    "    else:\n",
    "        t_f1 = t1[1] if N1 > 1 else t_end\n",
    "        dt_f1 = njit_get_min_dist(t_f1, t2, N2, 0, t_aux2[0], t_aux2[1])\n",
    "        dt_p1 = njit_get_min_dist(t_p1, t2, N2, 0, t_aux2[0], t_aux2[1])\n",
    "        isi1 = t_f1-t1[0]\n",
    "        s1 = dt_p1\n",
    "        index1 = 0\n",
    "    if t2[0] > t_start:\n",
    "        t_f2 = t2[0]\n",
    "        dt_f2 = njit_get_min_dist(t_f2, t1, N1, 0, t_aux1[0], t_aux1[1])\n",
    "        dt_p2 = dt_f2\n",
    "        isi2 = np.max(np.array([t_f2-t_start, t2[1]-t2[0]])) if N2 > 1 else t_f2-t_start\n",
    "        s2 = dt_p2\n",
    "        index2 = -1\n",
    "    else:\n",
    "        t_f2 = t2[1] if N2 > 1 else t_end\n",
    "        dt_f2 = njit_get_min_dist(t_f2, t1, N1, 0, t_aux1[0], t_aux1[1])\n",
    "        dt_p2 = njit_get_min_dist(t_p2, t1, N1, 0, t_aux1[0], t_aux1[1])\n",
    "        isi2 = t_f2-t2[0]\n",
    "        s2 = dt_p2\n",
    "        index2 = 0\n",
    "\n",
    "    y_start = (s1*isi2 + s2*isi1) / njit_avrg(isi1, isi2)\n",
    "    index = 1\n",
    "\n",
    "    while index1+index2 < N1+N2-2:\n",
    "        if (index1 < N1-1) and (t_f1 < t_f2 or index2 == N2-1):\n",
    "            index1 += 1\n",
    "            s1 = dt_f1*(t_f1-t_p1) / isi1\n",
    "            dt_p1 = dt_f1\n",
    "            t_p1 = t_f1\n",
    "            if index1 < N1-1:\n",
    "                t_f1 = t1[index1+1]\n",
    "            else:\n",
    "                t_f1 = t_aux1[1]\n",
    "            t_curr =  t_p1\n",
    "            s2 = (dt_p2*(t_f2-t_p1) + dt_f2*(t_p1-t_p2)) / isi2\n",
    "            y_end = (s1*isi2 + s2*isi1)/njit_avrg(isi1, isi2)\n",
    "\n",
    "            spike_value += 0.5*(y_start + y_end) * (t_curr - t_last)\n",
    "\n",
    "            if index1 < N1-1:\n",
    "                dt_f1 = njit_get_min_dist(t_f1, t2, N2, index2,\n",
    "                                            t_aux2[0], t_aux2[1])\n",
    "                isi1 = t_f1-t_p1\n",
    "                s1 = dt_p1\n",
    "            else:\n",
    "                dt_f1 = dt_p1\n",
    "                isi1 = np.max(np.array([t_end-t1[N1-1], t1[N1-1]-t1[N1-2]])) if N1 > 1 \\\n",
    "                       else t_end-t1[N1-1]\n",
    "                s1 = dt_p1\n",
    "            y_start = (s1*isi2 + s2*isi1)/njit_avrg(isi1, isi2)\n",
    "        elif (index2 < N2-1) and (t_f1 > t_f2 or index1 == N1-1):\n",
    "            index2 += 1\n",
    "            s2 = dt_f2*(t_f2-t_p2) / isi2\n",
    "            dt_p2 = dt_f2\n",
    "            t_p2 = t_f2\n",
    "            if index2 < N2-1:\n",
    "                t_f2 = t2[index2+1]\n",
    "            else:\n",
    "                t_f2 = t_aux2[1]\n",
    "            t_curr = t_p2\n",
    "            s1 = (dt_p1*(t_f1-t_p2) + dt_f1*(t_p2-t_p1)) / isi1\n",
    "            y_end = (s1*isi2 + s2*isi1) / njit_avrg(isi1, isi2)\n",
    "\n",
    "            spike_value += 0.5*(y_start + y_end) * (t_curr - t_last)\n",
    "            \n",
    "            if index2 < N2-1:\n",
    "                dt_f2 = njit_get_min_dist(t_f2, t1, N1, index1,\n",
    "                                            t_aux1[0], t_aux1[1])\n",
    "                isi2 = t_f2-t_p2\n",
    "                s2 = dt_p2\n",
    "            else:\n",
    "                dt_f2 = dt_p2\n",
    "                isi2 = np.max(np.array([t_end-t2[N2-1], t2[N2-1]-t2[N2-2]])) if N2 > 1 \\\n",
    "                       else t_end-t2[N2-1]\n",
    "                s2 = dt_p2\n",
    "                \n",
    "            y_start = (s1*isi2 + s2*isi1)/njit_avrg(isi1, isi2)\n",
    "        else: # t_f1 == t_f2 - generate only one event\n",
    "            index1 += 1\n",
    "            index2 += 1\n",
    "            t_p1 = t_f1\n",
    "            t_p2 = t_f2\n",
    "            dt_p1 = 0.0\n",
    "            dt_p2 = 0.0\n",
    "            t_curr = t_f1\n",
    "            y_end = 0.0\n",
    "            spike_value += 0.5*(y_start + y_end) * (t_curr - t_last)\n",
    "            y_start = 0.0\n",
    "            if index1 < N1-1:\n",
    "                t_f1 = t1[index1+1]\n",
    "                dt_f1 = njit_get_min_dist(t_f1, t2, N2, index2,\n",
    "                                            t_aux2[0], t_aux2[1])\n",
    "                isi1 = t_f1 - t_p1\n",
    "            else:\n",
    "                t_f1 = t_aux1[1]\n",
    "                dt_f1 = dt_p1\n",
    "                isi1 = np.max(np.array([t_end-t1[N1-1], t1[N1-1]-t1[N1-2]])) if N1 > 1 \\\n",
    "                       else t_end-t1[N1-1]\n",
    "            if index2 < N2-1:\n",
    "                t_f2 = t2[index2+1]\n",
    "                dt_f2 = njit_get_min_dist(t_f2, t1, N1, index1,\n",
    "                                            t_aux1[0], t_aux1[1])\n",
    "                isi2 = t_f2 - t_p2\n",
    "            else:\n",
    "                t_f2 = t_aux2[1]\n",
    "                dt_f2 = dt_p2\n",
    "                isi2 = np.max(np.array([t_end-t2[N2-1], t2[N2-1]-t2[N2-2]])) if N2 > 1 \\\n",
    "                       else t_end-t2[N2-1]\n",
    "        index += 1\n",
    "        t_last = t_curr\n",
    "    s1 = dt_f1\n",
    "    s2 = dt_f2\n",
    "    y_end = (s1*isi2 + s2*isi1) / njit_avrg(isi1, isi2)\n",
    "\n",
    "    spike_value += 0.5*(y_start + y_end) * (t_end - t_last)\n",
    "\n",
    "    return spike_value / (t_end-t_start)"
   ]
  },
  {
   "cell_type": "code",
   "execution_count": 95,
   "metadata": {},
   "outputs": [
    {
     "name": "stdout",
     "output_type": "stream",
     "text": [
      "CPU times: user 2.07 s, sys: 11.5 ms, total: 2.09 s\n",
      "Wall time: 2.09 s\n"
     ]
    },
    {
     "data": {
      "text/plain": [
       "0.22039300805215156"
      ]
     },
     "execution_count": 95,
     "metadata": {},
     "output_type": "execute_result"
    }
   ],
   "source": [
    "%%time\n",
    "njit_SPIKE_distance(t1=spike_train_i, t2=spike_train_j, t_start=0, t_end=0.1)"
   ]
  },
  {
   "cell_type": "code",
   "execution_count": null,
   "metadata": {},
   "outputs": [],
   "source": []
  },
  {
   "cell_type": "markdown",
   "metadata": {},
   "source": [
    "---"
   ]
  },
  {
   "cell_type": "code",
   "execution_count": 22,
   "metadata": {
    "scrolled": true
   },
   "outputs": [],
   "source": [
    "_ = \"\"\"times_python = []; times_compiled = []; l_firing_rates = []\n",
    "\n",
    "for temp_firing_rate in [2, 5, 10, 20, 30, 40]:#, 25,50,100]:\n",
    "    for i_rep in range(100):\n",
    "        spike_train_i = np.random.randint(1_000, size=temp_firing_rate)/1_000.\n",
    "        spike_train_j = np.random.randint(1_000, size=temp_firing_rate)/1_000.\n",
    "\n",
    "        time_diff = time()\n",
    "        SPIKE_distance_single(t1=spike_train_i, t2=spike_train_j, t_start=0, t_end=1, mode='py')\n",
    "        time_diff = time() - time_diff\n",
    "        times_python.append(time_diff)\n",
    "\n",
    "        time_diff = time()\n",
    "        SPIKE_distance_single(t1=spike_train_i, t2=spike_train_j, t_start=0, t_end=1, mode='njit')\n",
    "        time_diff = time() - time_diff\n",
    "        times_compiled.append(time_diff)\n",
    "        \n",
    "        l_firing_rates.append(temp_firing_rate)\n",
    "\n",
    "times_python   = np.array(times_python)\n",
    "times_compiled = np.array(times_compiled)\n",
    "l_firing_rates = np.array(l_firing_rates)\"\"\""
   ]
  },
  {
   "cell_type": "code",
   "execution_count": 23,
   "metadata": {},
   "outputs": [],
   "source": [
    "_ = \"\"\"l_mean_python = []; l_mean_compiled = []; \n",
    "for tmp in np.unique(l_firing_rates):\n",
    "    temp_mean_python   = np.mean(times_python[l_firing_rates==tmp])\n",
    "    temp_mean_compiled = np.mean(times_compiled[l_firing_rates==tmp])\n",
    "    l_mean_python.append(temp_mean_python)\n",
    "    l_mean_compiled.append(temp_mean_compiled)\n",
    "l_mean_python   = np.array(l_mean_python)\n",
    "l_mean_compiled = np.array(l_mean_compiled)\"\"\""
   ]
  },
  {
   "cell_type": "code",
   "execution_count": 24,
   "metadata": {},
   "outputs": [],
   "source": [
    "_ = \"\"\"fig, axs = plt.subplots(figsize=(4,4), facecolor='w')\n",
    "\n",
    "axs.plot(l_firing_rates, times_python  , ls='', ms=8, marker='o', color='green', fillstyle='none', alpha=0.05)\n",
    "axs.plot(l_firing_rates, times_compiled, ls='', ms=8, marker='o', color='black', fillstyle='none', alpha=0.05)\n",
    "axs.plot(np.unique(l_firing_rates), l_mean_python  , color='green')\n",
    "axs.plot(np.unique(l_firing_rates), l_mean_compiled, color='black')\n",
    "\n",
    "#plt.semilogy()\n",
    "axs.set_xlabel(\"$Firing\\ rates$\"   , fontsize=14)\n",
    "axs.set_ylabel(\"$Time\\ [LOG]\\ (s)$\", fontsize=14)\"\"\""
   ]
  },
  {
   "cell_type": "code",
   "execution_count": 25,
   "metadata": {},
   "outputs": [],
   "source": [
    "_ = \"\"\"l_mean_speedup = []; l_std_speedup = []; \n",
    "for tmp in np.unique(l_firing_rates):\n",
    "    temp_mean_speedup  = np.mean(times_python[l_firing_rates==tmp] / times_compiled[l_firing_rates==tmp])\n",
    "    temp_std_speedup   = np.mean(times_python[l_firing_rates==tmp] / times_compiled[l_firing_rates==tmp])\n",
    "    l_mean_speedup.append(temp_mean_speedup)\n",
    "    l_std_speedup.append(temp_std_speedup)\n",
    "l_mean_speedup = np.array(l_mean_speedup)\n",
    "l_std_speedup  = np.array(l_std_speedup )\"\"\""
   ]
  }
 ],
 "metadata": {
  "kernelspec": {
   "display_name": "Python [conda env:allensdk_SS]",
   "language": "python",
   "name": "conda-env-allensdk_SS-py"
  },
  "language_info": {
   "codemirror_mode": {
    "name": "ipython",
    "version": 3
   },
   "file_extension": ".py",
   "mimetype": "text/x-python",
   "name": "python",
   "nbconvert_exporter": "python",
   "pygments_lexer": "ipython3",
   "version": "3.6.10"
  }
 },
 "nbformat": 4,
 "nbformat_minor": 2
}
