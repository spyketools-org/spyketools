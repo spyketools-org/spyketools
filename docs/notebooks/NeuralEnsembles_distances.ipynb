{
 "cells": [
  {
   "cell_type": "markdown",
   "metadata": {},
   "source": [
    "# Tutorial. Distance between spike trains"
   ]
  },
  {
   "cell_type": "markdown",
   "metadata": {},
   "source": [
    "**Importing necessary libs.**"
   ]
  },
  {
   "cell_type": "code",
   "execution_count": 1,
   "metadata": {},
   "outputs": [],
   "source": [
    "import numpy as np\n",
    "import matplotlib.pyplot as plt\n",
    "from sklearn.manifold import TSNE"
   ]
  },
  {
   "cell_type": "markdown",
   "metadata": {},
   "source": [
    "Importing SPIKE, VP, and SpikeShip measures"
   ]
  },
  {
   "cell_type": "code",
   "execution_count": 2,
   "metadata": {},
   "outputs": [],
   "source": [
    "import sys\n",
    "sys.path.append('/mnt/pns/home/sotomayorb/git/spyke-tools-dev/')"
   ]
  },
  {
   "cell_type": "code",
   "execution_count": 3,
   "metadata": {},
   "outputs": [],
   "source": [
    "from spyketools.proc.distances.ISI.ISI_distance import isi_distance_python\n",
    "from spyketools.proc.distances.SPIKE.SPIKE_distance import SPIKE_distance_cython\n",
    "from spyketools.proc.distances.RISPIKE.RISPIKE_distance import spike_distance_rf\n",
    "from spyketools.proc.distances.victor_purpura.victor_purpura_distance import victor_purpura_distance\n",
    "from spikeship import spikeship"
   ]
  },
  {
   "cell_type": "markdown",
   "metadata": {},
   "source": [
    "**`TODO:`** Move to SpikeShip src"
   ]
  },
  {
   "cell_type": "code",
   "execution_count": 4,
   "metadata": {},
   "outputs": [],
   "source": [
    "# ADD IN SPIKESHIP SRC\n",
    "def spikeship_single_neuron(st1, st2, return_global_shift=False):\n",
    "    len_st1 = len(st1)\n",
    "    len_st2 = len(st2)\n",
    "    if len(st1) != len(st2):\n",
    "        if len_st1 > len_st2:\n",
    "            c_temp = spikeship.signature_emd_ss2(st1, st2)\n",
    "            C = c_temp[0]\n",
    "            W = c_temp[1] / (len_st1 * len_st2)\n",
    "        else:\n",
    "            c_temp = spikeship.signature_emd_ss2(st2, st1)\n",
    "            C = -c_temp[0] \n",
    "            W =  c_temp[1] / (len_st1 * len_st2)\n",
    "    else:\n",
    "        c_temp = spikeship.signature_emd_ss2(st2, st1)\n",
    "        C = c_temp[0]\n",
    "        W = 1.0/c_temp[1]\n",
    "        \n",
    "    # computation of D\n",
    "    if np.sum(W)==len(W): # single spike patterns\n",
    "        g = np.median(C)\n",
    "    else:\n",
    "        if np.sum(W)>0:     # multi-spike patterns\n",
    "            g = tools.weighted_median(x=C,w=W)\n",
    "        else: # it ocurrs when two epochs do not have flow because one of the is spikeless\n",
    "            g = np.nan #0.\n",
    "    \n",
    "    f = np.sum(np.abs((C-g)*W))\n",
    "    \n",
    "    if return_global_shift:\n",
    "        return f, g\n",
    "    else:\n",
    "        return f"
   ]
  },
  {
   "cell_type": "markdown",
   "metadata": {},
   "source": [
    "**`TODO:`** Move to main lib"
   ]
  },
  {
   "cell_type": "code",
   "execution_count": 5,
   "metadata": {},
   "outputs": [],
   "source": [
    "from spikeship import spikeship, tools"
   ]
  },
  {
   "cell_type": "code",
   "execution_count": 6,
   "metadata": {},
   "outputs": [],
   "source": [
    "#MOVE TO H:\\git\\spyke-tools-dev\\spyketools\\proc\\distances\\spike_metrics\n",
    "def spike_train_distance(st1, st2, metric, attrs={}):\n",
    "    metric = metric.lower()\n",
    "    ret = None\n",
    "    # attrs management\n",
    "    # firing rate related\n",
    "    if (not 'window_length' in attrs) or (attrs['window_length'] is None):\n",
    "        window_length = np.max(np.concatenate([st1, st2]))\n",
    "    else:\n",
    "        window_length = attrs['window_length']\n",
    "    # vp-related\n",
    "    if (not 'cost' in attrs) or (attrs['cost'] is None):\n",
    "        cost = (len(st1)+len(st2))/2.\n",
    "    else:\n",
    "        cost = attrs['cost']\n",
    "\n",
    "    dist = None\n",
    "    if metric == \"firing_rates\" or metric == 'firing_rates_z':\n",
    "        dist = len(st1)-len(st2)\n",
    "\n",
    "    elif metric == \"spikeship\":\n",
    "            return_global_shift = (\"return_global_shift\" in attrs) and (attrs['return_global_shift'])\n",
    "            dist = spikeship_single_neuron(st1, st2, return_global_shift=return_global_shift)\n",
    "    else:\n",
    "                  \n",
    "        if metric == \"victor_purpura\":\n",
    "            dist = victor_purpura_distance(st1, st2, cost)\n",
    "\n",
    "        elif metric == \"isi\":\n",
    "            dist = np.abs(isi_distance_python(st1, st2, t_start=0, t_end=window_length))\n",
    "\n",
    "        elif metric == \"spike\":\n",
    "            dist = np.abs(SPIKE_distance_cython(st1, st2, t_start=0, t_end=window_length)) #SPIKE_distance_pw(spike_times, ii_spike_times, epoch_index_pairs, window_length)\n",
    "\n",
    "        elif metric == \"ri-spike\":\n",
    "            dist = np.abs(spike_distance_rf(st1, st2, t_start=0, t_end=window_length)) #RISPIKE_distance_pw(spike_times, ii_spike_times, epoch_index_pairs, window_length)\n",
    "        else:\n",
    "            raise NotImplementedError(\"metric '%s' is not implemented.\" % metric)\n",
    "    return dist"
   ]
  },
  {
   "cell_type": "markdown",
   "metadata": {},
   "source": [
    "**Data simulation**"
   ]
  },
  {
   "cell_type": "markdown",
   "metadata": {},
   "source": [
    "In this tutorial, we will generate three spike trains from random uniform distribution (NumPy's random module)"
   ]
  },
  {
   "cell_type": "code",
   "execution_count": 7,
   "metadata": {},
   "outputs": [],
   "source": [
    "window_length    = 1\n",
    "random_rate_st1  = 20\n",
    "random_rate_st2  = 10\n",
    "random_rate_st3  = 30"
   ]
  },
  {
   "cell_type": "code",
   "execution_count": 8,
   "metadata": {},
   "outputs": [
    {
     "data": {
      "text/plain": [
       "array([0.54520052, 0.05090904, 0.63161995, 0.40325893, 0.10522219,\n",
       "       0.43758888, 0.9247742 , 0.28893735, 0.07625928, 0.30474875,\n",
       "       0.002221  , 0.59727108, 0.25256447, 0.94319305, 0.6687706 ,\n",
       "       0.03243689, 0.75669847, 0.92521665, 0.31816833, 0.22055844])"
      ]
     },
     "execution_count": 8,
     "metadata": {},
     "output_type": "execute_result"
    }
   ],
   "source": [
    "st1 = np.random.uniform(0, window_length, int(np.rint(window_length * random_rate_st1)))\n",
    "st1"
   ]
  },
  {
   "cell_type": "code",
   "execution_count": 9,
   "metadata": {},
   "outputs": [
    {
     "data": {
      "text/plain": [
       "array([0.40965511, 0.3069141 , 0.04365799, 0.88525141, 0.32718722,\n",
       "       0.84087039, 0.08741324, 0.52789228, 0.82462147, 0.37480393])"
      ]
     },
     "execution_count": 9,
     "metadata": {},
     "output_type": "execute_result"
    }
   ],
   "source": [
    "st2 = np.random.uniform(0, window_length, int(np.rint(window_length * random_rate_st2)))\n",
    "st2"
   ]
  },
  {
   "cell_type": "code",
   "execution_count": 10,
   "metadata": {},
   "outputs": [
    {
     "data": {
      "text/plain": [
       "array([0.61477569, 0.4908755 , 0.69913879, 0.79592393, 0.73106154,\n",
       "       0.01061136, 0.37456041, 0.1509597 , 0.78696273, 0.34206565,\n",
       "       0.87216871, 0.77895042, 0.89375029, 0.87955936, 0.58840796,\n",
       "       0.64753096, 0.27331953, 0.22555311, 0.34791837, 0.91308568,\n",
       "       0.14778284, 0.88721528, 0.82287604, 0.59402447, 0.37987385,\n",
       "       0.5182529 , 0.44262754, 0.99591286, 0.87712421, 0.04410692])"
      ]
     },
     "execution_count": 10,
     "metadata": {},
     "output_type": "execute_result"
    }
   ],
   "source": [
    "st3 = np.random.uniform(0, window_length, int(np.rint(window_length * random_rate_st3)))\n",
    "st3"
   ]
  },
  {
   "cell_type": "code",
   "execution_count": 11,
   "metadata": {},
   "outputs": [],
   "source": [
    "# visualization options:\n",
    "ms = 15 # marker size"
   ]
  },
  {
   "cell_type": "code",
   "execution_count": 12,
   "metadata": {},
   "outputs": [
    {
     "data": {
      "text/plain": [
       "([<matplotlib.axis.YTick at 0x7fdd404b6e80>,\n",
       "  <matplotlib.axis.YTick at 0x7fdd404b67b8>,\n",
       "  <matplotlib.axis.YTick at 0x7fddb04de198>],\n",
       " <a list of 3 Text yticklabel objects>)"
      ]
     },
     "execution_count": 12,
     "metadata": {},
     "output_type": "execute_result"
    },
    {
     "data": {
      "image/png": "[encoded data removed]",
      "text/plain": [
       "<Figure size 432x288 with 1 Axes>"
      ]
     },
     "metadata": {
      "needs_background": "light"
     },
     "output_type": "display_data"
    }
   ],
   "source": [
    "plt.plot(st1, np.ones(random_rate_st1)*0, color='k', ls='', marker='|', ms=ms)\n",
    "plt.plot(st2, np.ones(random_rate_st2)*1, color='k', ls='', marker='|', ms=ms)\n",
    "plt.plot(st3, np.ones(random_rate_st3)*2, color='k', ls='', marker='|', ms=ms)\n",
    "plt.ylim([-0.5, 2.5])\n",
    "plt.xlabel(\"Time (a.u.)\")\n",
    "plt.ylabel(\"Spike trains\")\n",
    "plt.yticks([0,1,2], [\"st1\", \"st2\", \"st3\"])"
   ]
  },
  {
   "cell_type": "markdown",
   "metadata": {},
   "source": [
    "### Computation of spike train distances"
   ]
  },
  {
   "cell_type": "markdown",
   "metadata": {},
   "source": [
    "**SpikeShip**"
   ]
  },
  {
   "cell_type": "markdown",
   "metadata": {},
   "source": [
    "Extraction of global shift $G$ or alignment (optional)"
   ]
  },
  {
   "cell_type": "code",
   "execution_count": 13,
   "metadata": {},
   "outputs": [
    {
     "data": {
      "text/plain": [
       "0.3730175305995934"
      ]
     },
     "execution_count": 13,
     "metadata": {},
     "output_type": "execute_result"
    }
   ],
   "source": [
    "spike_train_distance(st1, st3, metric='SpikeShip')"
   ]
  },
  {
   "cell_type": "code",
   "execution_count": 14,
   "metadata": {},
   "outputs": [
    {
     "name": "stdout",
     "output_type": "stream",
     "text": [
      "Neuron-specific flow: 0.2699476620590623\n",
      "Global shift: -0.022438472329331716\n"
     ]
    }
   ],
   "source": [
    "f, G = spikeship_single_neuron(st1, st2, return_global_shift=True)\n",
    "print (\"Neuron-specific flow:\", f)\n",
    "print (\"Global shift:\", G)"
   ]
  },
  {
   "cell_type": "code",
   "execution_count": 15,
   "metadata": {},
   "outputs": [
    {
     "data": {
      "text/plain": [
       "0.2699476620590623"
      ]
     },
     "execution_count": 15,
     "metadata": {},
     "output_type": "execute_result"
    }
   ],
   "source": [
    "spike_train_distance(st1, st2, metric='SpikeShip')"
   ]
  },
  {
   "cell_type": "code",
   "execution_count": 16,
   "metadata": {},
   "outputs": [
    {
     "data": {
      "text/plain": [
       "(0.2699476620590623, -0.022438472329331716)"
      ]
     },
     "execution_count": 16,
     "metadata": {},
     "output_type": "execute_result"
    }
   ],
   "source": [
    "spike_train_distance(st1, st2, metric='SpikeShip', attrs={'return_global_shift' : True})"
   ]
  },
  {
   "cell_type": "code",
   "execution_count": 17,
   "metadata": {},
   "outputs": [
    {
     "data": {
      "text/plain": [
       "9.741799938542744"
      ]
     },
     "execution_count": 17,
     "metadata": {},
     "output_type": "execute_result"
    }
   ],
   "source": [
    "spike_train_distance(st1, st2, metric='ISI', attrs={'window_length' : 1})"
   ]
  },
  {
   "cell_type": "code",
   "execution_count": 18,
   "metadata": {},
   "outputs": [
    {
     "data": {
      "text/plain": [
       "571.313769105488"
      ]
     },
     "execution_count": 18,
     "metadata": {},
     "output_type": "execute_result"
    }
   ],
   "source": [
    "spike_train_distance(st1, st2, metric='SPIKE', attrs={'window_length' : 1})"
   ]
  },
  {
   "cell_type": "code",
   "execution_count": 19,
   "metadata": {},
   "outputs": [
    {
     "data": {
      "text/plain": [
       "17.159171399618273"
      ]
     },
     "execution_count": 19,
     "metadata": {},
     "output_type": "execute_result"
    }
   ],
   "source": [
    "spike_train_distance(st1, st2, metric='RI-SPIKE', attrs={'window_length' : 1})"
   ]
  },
  {
   "cell_type": "code",
   "execution_count": 20,
   "metadata": {},
   "outputs": [
    {
     "data": {
      "text/plain": [
       "10.0"
      ]
     },
     "execution_count": 20,
     "metadata": {},
     "output_type": "execute_result"
    }
   ],
   "source": [
    "spike_train_distance(st1, st2, metric='victor_purpura', attrs={'cost' : 0})"
   ]
  },
  {
   "cell_type": "code",
   "execution_count": 21,
   "metadata": {},
   "outputs": [
    {
     "data": {
      "text/plain": [
       "10.29507830802713"
      ]
     },
     "execution_count": 21,
     "metadata": {},
     "output_type": "execute_result"
    }
   ],
   "source": [
    "spike_train_distance(st1, st2, metric='victor_purpura', attrs={'cost' : 1})"
   ]
  },
  {
   "cell_type": "code",
   "execution_count": 22,
   "metadata": {},
   "outputs": [
    {
     "data": {
      "text/plain": [
       "14.42617462040693"
      ]
     },
     "execution_count": 22,
     "metadata": {},
     "output_type": "execute_result"
    }
   ],
   "source": [
    "spike_train_distance(st1, st2, metric='victor_purpura')"
   ]
  },
  {
   "cell_type": "code",
   "execution_count": 23,
   "metadata": {},
   "outputs": [
    {
     "data": {
      "text/plain": [
       "(0.568530882002483, 0.568530882002483)"
      ]
     },
     "execution_count": 23,
     "metadata": {},
     "output_type": "execute_result"
    }
   ],
   "source": [
    "spike_train_distance(st1, st2, metric='ISI', attrs={'window_length' : 1}), spike_train_distance(st2, st1, metric='ISI', attrs={'window_length' : 1})"
   ]
  },
  {
   "cell_type": "code",
   "execution_count": 24,
   "metadata": {},
   "outputs": [
    {
     "data": {
      "text/plain": [
       "(0.3324823396088743, 0.3324823396088743)"
      ]
     },
     "execution_count": 24,
     "metadata": {},
     "output_type": "execute_result"
    }
   ],
   "source": [
    "spike_train_distance(st1, st2, metric='SPIKE', attrs={'window_length' : 1}), spike_train_distance(st2, st1, metric='SPIKE', attrs={'window_length' : 1})"
   ]
  },
  {
   "cell_type": "markdown",
   "metadata": {},
   "source": [
    "### Comparison between three spike trains"
   ]
  },
  {
   "cell_type": "code",
   "execution_count": 25,
   "metadata": {},
   "outputs": [
    {
     "data": {
      "text/plain": [
       "([<matplotlib.axis.YTick at 0x7fdd3f6529b0>,\n",
       "  <matplotlib.axis.YTick at 0x7fdd3f6670f0>,\n",
       "  <matplotlib.axis.YTick at 0x7fdd3f23b198>],\n",
       " <a list of 3 Text yticklabel objects>)"
      ]
     },
     "execution_count": 25,
     "metadata": {},
     "output_type": "execute_result"
    },
    {
     "data": {
      "image/png": "[encoded data removed]",
      "text/plain": [
       "<Figure size 432x288 with 1 Axes>"
      ]
     },
     "metadata": {
      "needs_background": "light"
     },
     "output_type": "display_data"
    }
   ],
   "source": [
    "plt.plot(st1, np.ones(random_rate_st1)*0, color='k', ls='', marker='|', ms=ms)\n",
    "plt.plot(st2, np.ones(random_rate_st2)*1, color='k', ls='', marker='|', ms=ms)\n",
    "plt.plot(st3, np.ones(random_rate_st3)*2, color='k', ls='', marker='|', ms=ms)\n",
    "plt.ylim([-0.5, 2.5])\n",
    "plt.xlabel(\"Time (a.u.)\")\n",
    "plt.ylabel(\"Spike trains\")\n",
    "plt.yticks([0,1,2], [\"st1\", \"st2\", \"st3\"])"
   ]
  },
  {
   "cell_type": "code",
   "execution_count": 26,
   "metadata": {},
   "outputs": [
    {
     "data": {
      "text/plain": [
       "array([0.61477569, 0.4908755 , 0.69913879, 0.79592393, 0.73106154,\n",
       "       0.01061136, 0.37456041, 0.1509597 , 0.78696273, 0.34206565,\n",
       "       0.87216871, 0.77895042, 0.89375029, 0.87955936, 0.58840796,\n",
       "       0.64753096, 0.27331953, 0.22555311, 0.34791837, 0.91308568,\n",
       "       0.14778284, 0.88721528, 0.82287604, 0.59402447, 0.37987385,\n",
       "       0.5182529 , 0.44262754, 0.99591286, 0.87712421, 0.04410692])"
      ]
     },
     "execution_count": 26,
     "metadata": {},
     "output_type": "execute_result"
    }
   ],
   "source": [
    "st3"
   ]
  },
  {
   "cell_type": "code",
   "execution_count": 27,
   "metadata": {},
   "outputs": [],
   "source": [
    "spikeship_st12 = spike_train_distance(st1, st2, metric='SpikeShip')\n",
    "spikeship_st13 = spike_train_distance(st1, st3, metric='SpikeShip')\n",
    "spikeship_st23 = spike_train_distance(st2, st3, metric='SpikeShip')"
   ]
  },
  {
   "cell_type": "code",
   "execution_count": 28,
   "metadata": {},
   "outputs": [],
   "source": [
    "shift_costs = [1e-3, 1e-2, 1e-1, 1, 1e1, 1e2, 1e3, 1e4, 1e5, 1e6]"
   ]
  },
  {
   "cell_type": "code",
   "execution_count": 29,
   "metadata": {},
   "outputs": [],
   "source": [
    "VP_costs = [] # VP distances for different values of q\n",
    "for q in shift_costs:\n",
    "    temp_distance = spike_train_distance(st1, st2, metric='victor_purpura', attrs={'cost' : q})\n",
    "    VP_costs.append(temp_distance)"
   ]
  },
  {
   "cell_type": "code",
   "execution_count": 30,
   "metadata": {},
   "outputs": [
    {
     "data": {
      "text/plain": [
       "Text(0, 0.5, 'distance')"
      ]
     },
     "execution_count": 30,
     "metadata": {},
     "output_type": "execute_result"
    },
    {
     "data": {
      "image/png": "[encoded data removed]",
      "text/plain": [
       "<Figure size 432x288 with 1 Axes>"
      ]
     },
     "metadata": {
      "needs_background": "light"
     },
     "output_type": "display_data"
    }
   ],
   "source": [
    "plt.plot(VP_costs)\n",
    "plt.xlabel(\"q\")\n",
    "plt.ylabel(\"distance\")"
   ]
  },
  {
   "cell_type": "markdown",
   "metadata": {},
   "source": [
    "---"
   ]
  }
 ],
 "metadata": {
  "kernelspec": {
   "display_name": "Python [conda env:spot]",
   "language": "python",
   "name": "conda-env-spot-py"
  },
  "language_info": {
   "codemirror_mode": {
    "name": "ipython",
    "version": 3
   },
   "file_extension": ".py",
   "mimetype": "text/x-python",
   "name": "python",
   "nbconvert_exporter": "python",
   "pygments_lexer": "ipython3",
   "version": "3.6.5"
  }
 },
 "nbformat": 4,
 "nbformat_minor": 2
}
