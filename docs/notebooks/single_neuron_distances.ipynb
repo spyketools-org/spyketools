{
 "cells": [
  {
   "cell_type": "code",
   "execution_count": 1,
   "metadata": {},
   "outputs": [],
   "source": [
    "import numpy as np\n",
    "import sys; sys.path.append('/mnt/pns/home/sotomayorb/git/spyke-tools-dev/')"
   ]
  },
  {
   "cell_type": "code",
   "execution_count": 2,
   "metadata": {},
   "outputs": [
    {
     "name": "stderr",
     "output_type": "stream",
     "text": [
      "/home/sotomayorb/anaconda3/envs/allensdk_SS/lib/python3.6/site-packages/numba/core/decorators.py:232: RuntimeWarning: nopython is set for njit and is ignored\n",
      "  warnings.warn('nopython is set for njit and is ignored', RuntimeWarning)\n"
     ]
    }
   ],
   "source": [
    "%load_ext autoreload\n",
    "from spyketools.proc.distances.spikeship import spikeship_distance_single\n",
    "from spyketools.proc.distances.SPIKE_distance import SPIKE_distance_single\n",
    "from spyketools.proc.distances.spike_metrics import pairwise_spike_distance\n",
    "from spyketools.proc.distances.SPIKE_distance import SPIKE_distance_single\n",
    "from spyketools.proc.distances.RISPIKE_distance import RISPIKE_distance_single\n",
    "from spyketools.proc.distances.victor_purpura_distance import VP_distance_single\n",
    "from spyketools.proc.distances.ISI_distance import ISI_distance_single\n",
    "%autoreload 2"
   ]
  },
  {
   "cell_type": "markdown",
   "metadata": {},
   "source": [
    "### 1. Computation of distances between two spike trains"
   ]
  },
  {
   "cell_type": "code",
   "execution_count": 3,
   "metadata": {},
   "outputs": [],
   "source": [
    "# creating random data\n",
    "firing_rate = 20 # num. of spikes per sec\n",
    "spike_train_i = np.random.randint(1000, size=firing_rate)/1000.\n",
    "spike_train_j = np.random.randint(1000, size=firing_rate)/1000."
   ]
  },
  {
   "cell_type": "code",
   "execution_count": 4,
   "metadata": {},
   "outputs": [
    {
     "name": "stdout",
     "output_type": "stream",
     "text": [
      "CPU times: user 8.62 ms, sys: 1.75 ms, total: 10.4 ms\n",
      "Wall time: 9.86 ms\n"
     ]
    },
    {
     "data": {
      "text/plain": [
       "0.24915"
      ]
     },
     "execution_count": 4,
     "metadata": {},
     "output_type": "execute_result"
    }
   ],
   "source": [
    "%%time\n",
    "spikeship_distance_single(t1=spike_train_i, t2=spike_train_j)"
   ]
  },
  {
   "cell_type": "code",
   "execution_count": 5,
   "metadata": {},
   "outputs": [
    {
     "name": "stdout",
     "output_type": "stream",
     "text": [
      "CPU times: user 3.43 s, sys: 18 ms, total: 3.44 s\n",
      "Wall time: 3.45 s\n"
     ]
    },
    {
     "data": {
      "text/plain": [
       "68914.07819943024"
      ]
     },
     "execution_count": 5,
     "metadata": {},
     "output_type": "execute_result"
    }
   ],
   "source": [
    "%%time\n",
    "SPIKE_distance_single(t1=spike_train_i, t2=spike_train_j, t_start=0, t_end=1)"
   ]
  },
  {
   "cell_type": "code",
   "execution_count": 6,
   "metadata": {},
   "outputs": [
    {
     "name": "stdout",
     "output_type": "stream",
     "text": [
      "CPU times: user 1.81 s, sys: 7.29 ms, total: 1.82 s\n",
      "Wall time: 1.82 s\n"
     ]
    },
    {
     "data": {
      "text/plain": [
       "106.68410755071635"
      ]
     },
     "execution_count": 6,
     "metadata": {},
     "output_type": "execute_result"
    }
   ],
   "source": [
    "%%time\n",
    "RISPIKE_distance_single(t1=spike_train_i, t2=spike_train_j, t_start=0, t_end=1)"
   ]
  },
  {
   "cell_type": "code",
   "execution_count": 7,
   "metadata": {},
   "outputs": [
    {
     "name": "stdout",
     "output_type": "stream",
     "text": [
      "CPU times: user 1.5 s, sys: 130 µs, total: 1.5 s\n",
      "Wall time: 1.51 s\n"
     ]
    },
    {
     "data": {
      "text/plain": [
       "14.620000000000001"
      ]
     },
     "execution_count": 7,
     "metadata": {},
     "output_type": "execute_result"
    }
   ],
   "source": [
    "%%time\n",
    "VP_distance_single(t1=spike_train_i, t2=spike_train_j, cost=firing_rate)"
   ]
  },
  {
   "cell_type": "code",
   "execution_count": 8,
   "metadata": {},
   "outputs": [
    {
     "name": "stdout",
     "output_type": "stream",
     "text": [
      "CPU times: user 917 ms, sys: 2.06 ms, total: 919 ms\n",
      "Wall time: 921 ms\n"
     ]
    },
    {
     "data": {
      "text/plain": [
       "0.19437331398767854"
      ]
     },
     "execution_count": 8,
     "metadata": {},
     "output_type": "execute_result"
    }
   ],
   "source": [
    "%%time\n",
    "ISI_distance_single(t1=spike_train_i, t2=spike_train_j, t_start=0, t_end=0.1)"
   ]
  },
  {
   "cell_type": "markdown",
   "metadata": {},
   "source": [
    "### 2. Execution time difference between Python+NumPy and Numba implementations"
   ]
  },
  {
   "cell_type": "markdown",
   "metadata": {},
   "source": [
    "For this example, we will consider SPIKE distance. To run any distance from SpykeTools, we set the value of the parameter `mode = 'py'`."
   ]
  },
  {
   "cell_type": "code",
   "execution_count": 9,
   "metadata": {},
   "outputs": [],
   "source": [
    "from time import time"
   ]
  },
  {
   "cell_type": "code",
   "execution_count": 10,
   "metadata": {},
   "outputs": [
    {
     "name": "stdout",
     "output_type": "stream",
     "text": [
      "Exec. time = 0.000823\n"
     ]
    }
   ],
   "source": [
    "exec_time = time()\n",
    "SPIKE_distance_single(t1=spike_train_i, t2=spike_train_j, t_start=0, t_end=1, mode='py')\n",
    "exec_time = time() - exec_time\n",
    "print (\"Exec. time = %.6f\" % exec_time)"
   ]
  },
  {
   "cell_type": "code",
   "execution_count": 11,
   "metadata": {},
   "outputs": [
    {
     "name": "stdout",
     "output_type": "stream",
     "text": [
      "Exec. time = 0.000077\n"
     ]
    }
   ],
   "source": [
    "exec_time = time()\n",
    "SPIKE_distance_single(t1=spike_train_i, t2=spike_train_j, t_start=0, t_end=1, mode='njit')\n",
    "exec_time = time() - exec_time\n",
    "print (\"Exec. time = %.6f\" % exec_time)"
   ]
  },
  {
   "cell_type": "code",
   "execution_count": 12,
   "metadata": {},
   "outputs": [],
   "source": [
    "n_repetitions = 1000\n",
    "total_exec_time_py   = 0.\n",
    "total_exec_time_njit = 0.\n",
    "for i in range(n_repetitions):\n",
    "    spike_train_i = np.random.randint(1000, size=firing_rate)/1000.\n",
    "    spike_train_j = np.random.randint(1000, size=firing_rate)/1000.\n",
    "    \n",
    "    exec_time = time()\n",
    "    SPIKE_distance_single(t1=spike_train_i, t2=spike_train_j, t_start=0, t_end=1, mode='py')\n",
    "    exec_time = time() - exec_time\n",
    "    total_exec_time_py += exec_time\n",
    "    \n",
    "    exec_time = time()\n",
    "    SPIKE_distance_single(t1=spike_train_i, t2=spike_train_j, t_start=0, t_end=1, mode='njit')\n",
    "    exec_time = time() - exec_time\n",
    "    total_exec_time_njit += exec_time\n",
    "    \n",
    "total_exec_time_py   /= n_repetitions\n",
    "total_exec_time_njit /= n_repetitions"
   ]
  },
  {
   "cell_type": "code",
   "execution_count": 13,
   "metadata": {},
   "outputs": [
    {
     "name": "stdout",
     "output_type": "stream",
     "text": [
      "Exec. time = 0.00056659 sec (python + numpy)  \n",
      "Exec. time = 0.00000471 sec (   compiled   )\n",
      "120.181 times faster! (1000 repetitions)\n"
     ]
    }
   ],
   "source": [
    "print (\"Exec. time = %.8f sec (python + numpy)  \" % total_exec_time_py)\n",
    "print (\"Exec. time = %.8f sec (   compiled   )\" % total_exec_time_njit)\n",
    "print (\"%.3f times faster! (%i repetitions)\" % (total_exec_time_py/total_exec_time_njit, n_repetitions))"
   ]
  },
  {
   "cell_type": "markdown",
   "metadata": {},
   "source": [
    "Note: By default, `mode = 'njit'` which correspond to \"no-python\" mode of Numba's **J**ust-**I**n-**T**ime compilation)."
   ]
  },
  {
   "cell_type": "markdown",
   "metadata": {},
   "source": [
    "---"
   ]
  }
 ],
 "metadata": {
  "kernelspec": {
   "display_name": "Python [conda env:allensdk_SS]",
   "language": "python",
   "name": "conda-env-allensdk_SS-py"
  },
  "language_info": {
   "codemirror_mode": {
    "name": "ipython",
    "version": 3
   },
   "file_extension": ".py",
   "mimetype": "text/x-python",
   "name": "python",
   "nbconvert_exporter": "python",
   "pygments_lexer": "ipython3",
   "version": "3.6.10"
  }
 },
 "nbformat": 4,
 "nbformat_minor": 2
}
